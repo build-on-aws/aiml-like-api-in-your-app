{
 "cells": [
  {
   "attachments": {},
   "cell_type": "markdown",
   "metadata": {},
   "source": [
    "1. [Install Boto3](https://boto3.amazonaws.com/v1/documentation/api/latest/guide/quickstart.html#install-boto3)\n",
    "\n",
    "Install the latest Boto3 release via pip:"
   ]
  },
  {
   "cell_type": "code",
   "execution_count": null,
   "metadata": {},
   "outputs": [],
   "source": [
    "!pip3 install boto3"
   ]
  },
  {
   "attachments": {},
   "cell_type": "markdown",
   "metadata": {},
   "source": [
    "2. [Configuration using Boto3](https://boto3.amazonaws.com/v1/documentation/api/latest/guide/quickstart.html#using-boto3)\n",
    "\n",
    "You need: \n",
    "- aws_access_key_id = YOUR_ACCESS_KEY\n",
    "- aws_secret_access_key = YOUR_SECRET_KEY\n",
    "- region=YOUR_REGION"
   ]
  },
  {
   "cell_type": "code",
   "execution_count": 26,
   "metadata": {},
   "outputs": [],
   "source": [
    "import boto3\n",
    "sesion = boto3.Session(region_name=\"YOUR_REGION\",\n",
    "aws_access_key_id=\"YOUR_ACCESS_KEY\",\n",
    "aws_secret_access_key=\"YOUR_SECRET_KEY\")\n"
   ]
  },
  {
   "attachments": {},
   "cell_type": "markdown",
   "metadata": {},
   "source": [
    "3. [Amazon Polly Client.](https://boto3.amazonaws.com/v1/documentation/api/latest/reference/services/polly.html) \n",
    "\n",
    "The Amazon Polly service provides API operations for synthesizing high-quality speech from plain text and Speech Synthesis Markup Language (SSML), along with managing pronunciations lexicons that enable you to get the best results for your application domain."
   ]
  },
  {
   "cell_type": "code",
   "execution_count": 7,
   "metadata": {},
   "outputs": [],
   "source": [
    "polly_client = sesion.client('polly')"
   ]
  },
  {
   "attachments": {},
   "cell_type": "markdown",
   "metadata": {},
   "source": [
    "4. [Start Speech Syntesis Task API](https://boto3.amazonaws.com/v1/documentation/api/latest/reference/services/polly/client/start_speech_synthesis_task.html)\n",
    "\n",
    "Allows the creation of an asynchronous synthesis task, by starting a new SpeechSynthesisTask. This operation requires all the standard information needed for speech synthesis, plus the name of an Amazon S3 bucket for the service to store the output of the synthesis task and two optional parameters ( OutputS3KeyPrefix and SnsTopicArn). Once the synthesis task is created, this operation will return a SpeechSynthesisTask object, which will include an identifier of this task as well as the current status. The SpeechSynthesisTask object is available for 72 hours after starting the asynchronous synthesis task."
   ]
  },
  {
   "cell_type": "code",
   "execution_count": 6,
   "metadata": {},
   "outputs": [],
   "source": [
    "#defines the parameters for the synthesize_speech_to_text function\n",
    "TEXT = 'This is a sample text to be synthesized.'\n",
    "OUT_PUT_S3_BUCKET_NAME = \"your-bucket\"\n",
    "OUT_PUT_S3_KEY_PREFIX = \"your-prefix\"\n",
    "OUT_PUT_FORMAT = \"mp3\" #'json'|'mp3'|'ogg_vorbis'|'pcm'\n",
    "ENGINE = 'neural' #standard'|'neural' "
   ]
  },
  {
   "attachments": {},
   "cell_type": "markdown",
   "metadata": {},
   "source": [
    "### Choose the VoiceId\n",
    "\n",
    "\n",
    "[Neural Voices](https://docs.aws.amazon.com/polly/latest/dg/ntts-voices-main.html)"
   ]
  },
  {
   "cell_type": "code",
   "execution_count": 21,
   "metadata": {},
   "outputs": [
    {
     "name": "stdout",
     "output_type": "stream",
     "text": [
      "Task id is 54aa327a-5f2a-4d71-9d22-3dcb94416710 \n"
     ]
    }
   ],
   "source": [
    "response = polly_client.start_speech_synthesis_task(\n",
    "                VoiceId='Joanna',\n",
    "                OutputS3BucketName = OUT_PUT_S3_BUCKET_NAME,\n",
    "                OutputS3KeyPrefix = OUT_PUT_S3_KEY_PREFIX,\n",
    "                OutputFormat= OUT_PUT_FORMAT, \n",
    "                Text= TEXT,\n",
    "                Engine= ENGINE)\n",
    "\n",
    "taskId = response['SynthesisTask']['TaskId']\n",
    "\n",
    "print( \"Task id is {} \".format(taskId))"
   ]
  },
  {
   "attachments": {},
   "cell_type": "markdown",
   "metadata": {},
   "source": [
    "4. [Get speech synthesis task.](https://boto3.amazonaws.com/v1/documentation/api/latest/reference/services/polly/client/get_speech_synthesis_task.html) \n",
    "\n",
    "Retrieves a specific SpeechSynthesisTask object based on its TaskID. This object contains information about the given speech synthesis task, including the status of the task, and a link to the S3 bucket containing the output of the task."
   ]
  },
  {
   "cell_type": "code",
   "execution_count": 10,
   "metadata": {},
   "outputs": [],
   "source": [
    "import time\n"
   ]
  },
  {
   "cell_type": "code",
   "execution_count": null,
   "metadata": {},
   "outputs": [],
   "source": [
    "max_time = time.time() + 2 # 3 hours\n",
    "while time.time() < max_time:\n",
    "    response_task = polly_client.get_speech_synthesis_task(\n",
    "    TaskId=taskId\n",
    "    )\n",
    "    \n",
    "    status = response_task['SynthesisTask']['TaskStatus']\n",
    "    print(\"Polly SynthesisTask: {}\".format(status))\n",
    "    \n",
    "    if status == \"completed\" or status == \"failed\":\n",
    "        if status == \"failed\": \n",
    "            reason = response_task['SynthesisTask']['TaskStatusReason']\n",
    "            print(\"TaskStatusReason: {}\".format(reason))\n",
    "        else:\n",
    "            outPutUri= response_task['SynthesisTask']['OutputUri']\n",
    "            print(\"OutputUri: {}\".format(outPutUri))\n",
    "        break\n",
    "        \n",
    "    time.sleep(2)"
   ]
  },
  {
   "attachments": {},
   "cell_type": "markdown",
   "metadata": {},
   "source": [
    "### Download the file from the S3 bucket"
   ]
  },
  {
   "cell_type": "code",
   "execution_count": null,
   "metadata": {},
   "outputs": [],
   "source": [
    "bucket_file = OUT_PUT_S3_KEY_PREFIX + outPutUri.split(\"/\")[-1]\n",
    "local_file = 'speech_local.mp3'"
   ]
  },
  {
   "cell_type": "code",
   "execution_count": null,
   "metadata": {},
   "outputs": [],
   "source": [
    "s3 = boto3.resource('s3')\n",
    "s3.Bucket(OUT_PUT_S3_BUCKET_NAME).download_file(bucket_file, local_file)"
   ]
  },
  {
   "attachments": {},
   "cell_type": "markdown",
   "metadata": {},
   "source": [
    "4. [Synthesize speech.](https://boto3.amazonaws.com/v1/documentation/api/latest/reference/services/polly/client/synthesize_speech.html)\n",
    "\n",
    "Synthesizes UTF-8 input, plain text or SSML, to a stream of bytes. SSML input must be valid, well-formed SSML. Some alphabets might not be available with all the voices (for example, Cyrillic might not be read at all by English voices) unless phoneme mapping is used"
   ]
  },
  {
   "cell_type": "code",
   "execution_count": 25,
   "metadata": {},
   "outputs": [],
   "source": [
    "response = polly_client.synthesize_speech(\n",
    "                VoiceId='Joanna',\n",
    "                OutputFormat=OUT_PUT_FORMAT, \n",
    "                Text = TEXT,\n",
    "                Engine = ENGINE)\n",
    "\n",
    "file = open('speech.mp3', 'wb')\n",
    "file.write(response['AudioStream'].read())\n",
    "file.close()\n"
   ]
  }
 ],
 "metadata": {
  "kernelspec": {
   "display_name": "Python 3",
   "language": "python",
   "name": "python3"
  },
  "language_info": {
   "codemirror_mode": {
    "name": "ipython",
    "version": 3
   },
   "file_extension": ".py",
   "mimetype": "text/x-python",
   "name": "python",
   "nbconvert_exporter": "python",
   "pygments_lexer": "ipython3",
   "version": "3.9.6"
  },
  "orig_nbformat": 4
 },
 "nbformat": 4,
 "nbformat_minor": 2
}
