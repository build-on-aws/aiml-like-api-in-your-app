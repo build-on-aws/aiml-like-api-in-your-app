{
 "cells": [
  {
   "attachments": {},
   "cell_type": "markdown",
   "metadata": {},
   "source": [
    "1. [Install Boto3](https://boto3.amazonaws.com/v1/documentation/api/latest/guide/quickstart.html#install-boto3)\n",
    "\n",
    "Install the latest Boto3 release via pip:"
   ]
  },
  {
   "cell_type": "code",
   "execution_count": null,
   "metadata": {},
   "outputs": [],
   "source": [
    "!pip3 install boto3"
   ]
  },
  {
   "attachments": {},
   "cell_type": "markdown",
   "metadata": {},
   "source": [
    "2. [Configuration using Boto3](https://boto3.amazonaws.com/v1/documentation/api/latest/guide/quickstart.html#using-boto3)\n",
    "\n",
    "You need: \n",
    "- aws_access_key_id = YOUR_ACCESS_KEY\n",
    "- aws_secret_access_key = YOUR_SECRET_KEY\n",
    "- region=YOUR_REGION"
   ]
  },
  {
   "cell_type": "code",
   "execution_count": null,
   "metadata": {},
   "outputs": [],
   "source": [
    "import boto3\n",
    "sesion = boto3.Session(region_name=\"YOUR_REGION\",\n",
    "aws_access_key_id=\"YOUR_ACCESS_KEY\",\n",
    "aws_secret_access_key=\"YOUR_SECRET_KEY\")"
   ]
  },
  {
   "attachments": {},
   "cell_type": "markdown",
   "metadata": {},
   "source": [
    "3. [Amazon Textract Client](https://boto3.amazonaws.com/v1/documentation/api/latest/reference/services/textract.html)\n",
    "\n",
    "A low-level client representing Amazon Textract\n",
    "\n",
    "Amazon Textract detects and analyzes text in documents and converts it into machine-readable text. This is the API reference documentation for Amazon Textract."
   ]
  },
  {
   "cell_type": "code",
   "execution_count": null,
   "metadata": {},
   "outputs": [],
   "source": [
    "# Amazon Textract client\n",
    "textract_client = boto3.client('textract')\n",
    "\n",
    "# Document\n",
    "documentName = \"simple-document-image.jpg\"\n",
    "\n"
   ]
  },
  {
   "attachments": {},
   "cell_type": "markdown",
   "metadata": {},
   "source": [
    "5. [Detect Document Text API](https://boto3.amazonaws.com/v1/documentation/api/latest/reference/services/textract/client/detect_document_text.html)\n",
    "\n",
    "Detects text in the input document. Amazon Textract can detect lines of text and the words that make up a line of text. The input document must be in one of the following image formats: JPEG, PNG, PDF, or TIFF. DetectDocumentText returns the detected text in an array of Block objects."
   ]
  },
  {
   "cell_type": "code",
   "execution_count": null,
   "metadata": {},
   "outputs": [],
   "source": [
    "# Call Amazon Textract\n",
    "with open(documentName, \"rb\") as document:\n",
    "    response = textract_client.detect_document_text(\n",
    "        Document={\n",
    "            'Bytes': document.read(),\n",
    "        }\n",
    "    )\n",
    "print(response)"
   ]
  },
  {
   "cell_type": "code",
   "execution_count": null,
   "metadata": {},
   "outputs": [],
   "source": [
    "# Print text\n",
    "print(\"\\nText\\n========\")\n",
    "text = \"\"\n",
    "for item in response[\"Blocks\"]:\n",
    "    if item[\"BlockType\"] == \"LINE\":\n",
    "        print ('\\033[94m' +  item[\"Text\"] + '\\033[0m')\n",
    "        text = text + \" \" + item[\"Text\"]\n"
   ]
  },
  {
   "attachments": {},
   "cell_type": "markdown",
   "metadata": {},
   "source": [
    "4. [Amazon Comprehend client](https://boto3.amazonaws.com/v1/documentation/api/latest/reference/services/comprehend.html)\n",
    "\n",
    "Amazon Comprehend is an Amazon Web Services service for gaining insight into the content of documents. Use these actions to determine the topics contained in your documents, the topics they discuss, the predominant sentiment expressed in them, the predominant language used, and more."
   ]
  },
  {
   "attachments": {},
   "cell_type": "markdown",
   "metadata": {},
   "source": []
  },
  {
   "cell_type": "code",
   "execution_count": null,
   "metadata": {},
   "outputs": [],
   "source": [
    "comprehend_client = boto3.client('comprehend')"
   ]
  },
  {
   "attachments": {},
   "cell_type": "markdown",
   "metadata": {},
   "source": [
    "6. [Detect Sentiment API](https://boto3.amazonaws.com/v1/documentation/api/latest/reference/services/comprehend/client/detect_sentiment.html)\n",
    "\n",
    "Inspects text and returns an inference of the prevailing sentiment ( POSITIVE, NEUTRAL, MIXED, or NEGATIVE)."
   ]
  },
  {
   "cell_type": "code",
   "execution_count": null,
   "metadata": {},
   "outputs": [],
   "source": [
    "sentiment =  comprehend_client.detect_sentiment(LanguageCode=\"en\", Text=text)\n",
    "print (\"\\nSentiment\\n========\\n{}\".format(sentiment.get('Sentiment')))"
   ]
  },
  {
   "attachments": {},
   "cell_type": "markdown",
   "metadata": {},
   "source": [
    "7. [Detect entities API](https://boto3.amazonaws.com/v1/documentation/api/latest/reference/services/comprehend/client/detect_entities.html)\n",
    "\n",
    "Detects named entities in input text when you use the pre-trained model. Detects custom entities if you have a custom entity recognition model."
   ]
  },
  {
   "cell_type": "code",
   "execution_count": null,
   "metadata": {},
   "outputs": [],
   "source": [
    "entities =  comprehend_client.detect_entities(LanguageCode=\"en\", Text=text)\n",
    "print(\"\\nEntities\\n========\")\n",
    "for entity in entities[\"Entities\"]:\n",
    "    print (\"{}\\t=>\\t{}\".format(entity[\"Type\"], entity[\"Text\"]))"
   ]
  },
  {
   "attachments": {},
   "cell_type": "markdown",
   "metadata": {},
   "source": [
    "You can learn more about Amazon Transcribe and Amazon Comprehend with this [Code Samples](https://github.com/aws-samples/amazon-transcribe-comprehend-podcast)\n"
   ]
  },
  {
   "attachments": {},
   "cell_type": "markdown",
   "metadata": {},
   "source": []
  }
 ],
 "metadata": {
  "kernelspec": {
   "display_name": "Python 3",
   "language": "python",
   "name": "python3"
  },
  "language_info": {
   "codemirror_mode": {
    "name": "ipython",
    "version": 3
   },
   "file_extension": ".py",
   "mimetype": "text/x-python",
   "name": "python",
   "nbconvert_exporter": "python",
   "pygments_lexer": "ipython3",
   "version": "3.9.6"
  },
  "orig_nbformat": 4
 },
 "nbformat": 4,
 "nbformat_minor": 2
}
